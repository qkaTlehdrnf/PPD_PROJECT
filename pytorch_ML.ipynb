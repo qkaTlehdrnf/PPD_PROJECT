{
 "cells": [
  {
   "cell_type": "code",
   "execution_count": 2,
   "metadata": {},
   "outputs": [
    {
     "name": "stderr",
     "output_type": "stream",
     "text": [
      "d:\\ProgramData\\Anaconda3\\envs\\torch\\lib\\site-packages\\tqdm\\auto.py:22: TqdmWarning: IProgress not found. Please update jupyter and ipywidgets. See https://ipywidgets.readthedocs.io/en/stable/user_install.html\n",
      "  from .autonotebook import tqdm as notebook_tqdm\n"
     ]
    }
   ],
   "source": [
    "import torch\n",
    "import torch.nn as nn\n",
    "from machine_layout import MachineTemplate, BackgroundTemplate, BoundaryError\n",
    "import numpy as np\n",
    "import random\n",
    "import time\n",
    "import copy\n",
    "from tqdm import trange\n",
    "\n",
    "import matplotlib as plt\n",
    "import torch.optim as optim\n",
    "import torch.nn.functional as F\n",
    "import torchvision.transforms as T\n",
    "from torch.utils.data import Dataset, DataLoader\n",
    "from collections import namedtuple, deque"
   ]
  },
  {
   "cell_type": "code",
   "execution_count": 3,
   "metadata": {},
   "outputs": [
    {
     "name": "stdout",
     "output_type": "stream",
     "text": [
      "cpu\n"
     ]
    }
   ],
   "source": [
    "device = 'cuda' if torch.cuda.is_available() else 'cpu'\n",
    "print(device)"
   ]
  },
  {
   "cell_type": "code",
   "execution_count": 4,
   "metadata": {},
   "outputs": [],
   "source": [
    "class fac_model(nn.Module):\n",
    "    #input_size is 2*machine(as factory in and out)\n",
    "    #output is 2*machine\n",
    "    def __init__(self, input_size, output_size):\n",
    "        super(fac_model, self).__init__()\n",
    "        self.fc1 = nn.Linear(input_size, 32)\n",
    "        self.fc2 = nn.Linear(32, 128)\n",
    "        self.fc3 = nn.Linear(128, 512)\n",
    "        # self.fc4 = nn.Linear(512, 8)\n",
    "        # self.fc5 = nn.Linear(128, 256)\n",
    "        # self.fc6 = nn.Linear(256, 512)\n",
    "        # self.fc7 = nn.Linear(512, 1024)\n",
    "        # self.fc8 = nn.Linear(1024, 512)\n",
    "        self.fc9 = nn.Linear(512, output_size)\n",
    "        self.relu = nn.ReLU()\n",
    "\n",
    "    def forward(self, x):\n",
    "        x = self.fc1(x)\n",
    "        x = self.relu(x)\n",
    "        x = self.fc2(x)\n",
    "        x = self.relu(x)\n",
    "        x = self.fc3(x)\n",
    "        x = self.relu(x)\n",
    "        # x = self.fc4(x)\n",
    "        # x = self.relu(x)\n",
    "        # x = self.fc5(x)\n",
    "        # x = self.relu(x)\n",
    "        # x = self.fc6(x)\n",
    "        # x = self.relu(x)\n",
    "        # x = self.fc7(x)\n",
    "        # x = self.relu(x)\n",
    "        # x = self.fc8(x)\n",
    "        # x = self.relu(x)\n",
    "        x = self.fc9(x)\n",
    "        x = self.relu(x)\n",
    "        x*=100\n",
    "        return x.int()"
   ]
  },
  {
   "cell_type": "code",
   "execution_count": 5,
   "metadata": {},
   "outputs": [],
   "source": [
    "\n",
    "m1 = np.ones([20, 10])\n",
    "m2 = np.ones([10, 20])\n",
    "m3 = np.ones([30, 20])\n",
    "m4 = np.ones([10, 30])\n",
    "\n",
    "machine1 = MachineTemplate(m1, 'm1', inandoutpos = [[10,0],[20,10]])\n",
    "machine2 = MachineTemplate(m2, 'm2', inandoutpos = [[10,0],[0,15]])\n",
    "machine3 = MachineTemplate(m3, 'm3', inandoutpos = [[20,0],[20,20]])\n",
    "machine4 = MachineTemplate(m4, 'm4', inandoutpos = [[0,20],[10,30]])\n",
    "\n",
    "ICN = BackgroundTemplate(np.zeros([100, 100]))\n",
    "ICN.machine_add(machine1)\n",
    "ICN.machine_add(machine2)\n",
    "ICN.machine_add(machine3)\n",
    "ICN.machine_add(machine4)\n",
    "\n",
    "ICN.product_line(\"p1\", ['m1', 'm2', 'm3', 'm4'])\n",
    "ICN.product_line(\"p2\", ['m1', 'm2', 'm3'])\n",
    "ICN.product_line(\"p3\", ['m2', 'm3'])\n",
    "ICN.product_line(\"p4\", ['m3', 'm4', 'm1'])\n",
    "machines = ['m1', 'm2', 'm3', 'm4']\n",
    "h, w = ICN.bg.shape"
   ]
  },
  {
   "cell_type": "code",
   "execution_count": 6,
   "metadata": {},
   "outputs": [],
   "source": [
    "def factory_random_batch(ICN:BackgroundTemplate):\n",
    "    random.seed(time.time())\n",
    "    ICN.reset_bg()\n",
    "    batch_state = []\n",
    "    for m_code in machines:\n",
    "        while True:\n",
    "            randh = random.randint(0, h-10)\n",
    "            randw = random.randint(0, w-10)\n",
    "            try:\n",
    "                ICN.machine_batch([randh, randw], m_code)\n",
    "                batch_state.append([randh, randw])\n",
    "                break\n",
    "            except BoundaryError as e:\n",
    "                continue\n",
    "    return np.array(batch_state).flatten()\n",
    "    "
   ]
  },
  {
   "cell_type": "code",
   "execution_count": 7,
   "metadata": {},
   "outputs": [],
   "source": [
    "def factory_batch_loss(ICN: BackgroundTemplate, batch_state, collide_mul = 8):\n",
    "    ICN.reset_bg()\n",
    "    machines = ['m1', 'm2', 'm3', 'm4']\n",
    "    h, w = 100, 100\n",
    "    for idx, m_code in enumerate(machines):\n",
    "        try:\n",
    "            ICN.machine_batch(batch_state[idx*2:idx*2+2], m_code)\n",
    "        except BoundaryError as e:\n",
    "            return torch.from_numpy(np.array(1e4))\n",
    "    return torch.from_numpy(np.array(ICN.loss(collide_mul=8)))"
   ]
  },
  {
   "cell_type": "code",
   "execution_count": 8,
   "metadata": {},
   "outputs": [],
   "source": [
    "model = fac_model(2*len(ICN.machine_dict), 2*len(ICN.machine_dict))\n",
    "optimizer = torch.optim.SGD(model.parameters(), lr = 1)"
   ]
  },
  {
   "cell_type": "code",
   "execution_count": 17,
   "metadata": {},
   "outputs": [
    {
     "name": "stderr",
     "output_type": "stream",
     "text": [
      "431.6718133911268: 100%|██████████| 10000/10000 [06:29<00:00, 25.68it/s]\n"
     ]
    }
   ],
   "source": [
    "nb_epochs = int(1e4)\n",
    "best_loss = int(1e5)\n",
    "best_model = None\n",
    "batch_size = int(1e2)\n",
    "for epoch in (pbar := trange(nb_epochs)):\n",
    "    for batch_idx in range(batch_size):\n",
    "        batch = factory_random_batch(ICN)\n",
    "        # prediction = model(torch.tensor(batch).float().to(device))\n",
    "        cost = factory_batch_loss(ICN, batch, collide_mul = 2)\n",
    "\n",
    "        # cost로 H(x) 계산\n",
    "        # optimizer.zero_grad()\n",
    "        # cost.requires_grad_(True)\n",
    "        # cost.backward()\n",
    "        # optimizer.step()\n",
    "        # if epoch % 10 == 0 and batch_idx %(batch_size//5) == 0:\n",
    "        #     print('Epoch {:4d}/{} Batch {}/{} Cost: {:.6f}'.format(\n",
    "        #         epoch, nb_epochs, batch_idx, batch_size, cost))\n",
    "        if best_loss > ICN.loss():\n",
    "            best_loss = copy.deepcopy(ICN.loss())\n",
    "            pbar.set_description(str(best_loss))\n",
    "            best_fac = copy.deepcopy(ICN)\n",
    "            best_model = copy.deepcopy(model)\n",
    "            best_batch = copy.deepcopy(batch)"
   ]
  },
  {
   "cell_type": "code",
   "execution_count": 16,
   "metadata": {},
   "outputs": [
    {
     "name": "stdout",
     "output_type": "stream",
     "text": [
      "100000.0\n",
      "[43 23 35 36 16 56 54 62]\n"
     ]
    },
    {
     "data": {
      "image/png": "[encoded data removed]",
      "text/plain": [
       "<Figure size 432x288 with 1 Axes>"
      ]
     },
     "metadata": {
      "needs_background": "light"
     },
     "output_type": "display_data"
    }
   ],
   "source": [
    "best_fac.bg2img()\n",
    "print(best_loss)\n",
    "print(best_batch)"
   ]
  },
  {
   "cell_type": "code",
   "execution_count": null,
   "metadata": {},
   "outputs": [
    {
     "data": {
      "image/png": "[encoded data removed]",
      "text/plain": [
       "<Figure size 432x288 with 1 Axes>"
      ]
     },
     "metadata": {
      "needs_background": "light"
     },
     "output_type": "display_data"
    },
    {
     "data": {
      "image/png": "[encoded data removed]",
      "text/plain": [
       "<Figure size 432x288 with 1 Axes>"
      ]
     },
     "metadata": {
      "needs_background": "light"
     },
     "output_type": "display_data"
    },
    {
     "data": {
      "image/png": "[encoded data removed]",
      "text/plain": [
       "<Figure size 432x288 with 1 Axes>"
      ]
     },
     "metadata": {
      "needs_background": "light"
     },
     "output_type": "display_data"
    },
    {
     "data": {
      "image/png": "[encoded data removed]",
      "text/plain": [
       "<Figure size 432x288 with 1 Axes>"
      ]
     },
     "metadata": {
      "needs_background": "light"
     },
     "output_type": "display_data"
    }
   ],
   "source": [
    "best_fac.product_line_img(\"p1\")\n",
    "best_fac.product_line_img(\"p2\")\n",
    "best_fac.product_line_img(\"p3\")\n",
    "best_fac.product_line_img(\"p4\")"
   ]
  },
  {
   "cell_type": "code",
   "execution_count": null,
   "metadata": {},
   "outputs": [
    {
     "name": "stdout",
     "output_type": "stream",
     "text": [
      "tensor([ 81, 184,   0, 364,   0,   0,   0,   0], dtype=torch.int32)\n"
     ]
    }
   ],
   "source": [
    "print(prediction)"
   ]
  },
  {
   "cell_type": "code",
   "execution_count": null,
   "metadata": {},
   "outputs": [
    {
     "name": "stdout",
     "output_type": "stream",
     "text": [
      "Parameter containing:\n",
      "tensor([[-2.8592e-01, -2.3029e-02,  3.2747e-01,  2.1977e-01,  2.3991e-01,\n",
      "          1.6989e-01, -1.1231e-02,  1.7784e-01],\n",
      "        [-1.7262e-01,  2.0238e-01,  2.3981e-01,  8.5188e-02, -2.5507e-01,\n",
      "          1.2871e-01,  5.0552e-02, -2.7881e-02],\n",
      "        [ 5.2085e-02, -2.8857e-01, -1.3118e-01,  1.1822e-01, -2.2076e-01,\n",
      "          9.8493e-02, -2.2526e-02, -1.6751e-01],\n",
      "        [-2.9503e-01, -3.0396e-03, -2.1712e-01, -8.6279e-02, -3.4532e-01,\n",
      "         -7.3284e-03,  2.0452e-01,  3.4094e-01],\n",
      "        [-6.1000e-02, -3.2857e-01, -2.5551e-01,  3.0200e-01, -2.9722e-01,\n",
      "          1.7334e-01, -4.6302e-02, -2.3211e-01],\n",
      "        [ 2.0594e-01, -6.3314e-02,  3.2413e-02,  5.1124e-02,  8.9040e-02,\n",
      "         -3.5071e-01, -2.0450e-01,  1.3760e-01],\n",
      "        [ 1.4996e-01,  2.9727e-01, -3.1367e-01,  3.0361e-01,  2.5307e-01,\n",
      "          2.1585e-01,  1.5196e-01,  1.5905e-01],\n",
      "        [-6.7327e-02, -3.2954e-01, -2.3878e-01,  2.2193e-01, -1.1675e-01,\n",
      "          4.5380e-02, -2.4389e-01,  5.4372e-02],\n",
      "        [ 3.5136e-01,  1.1132e-01,  5.3188e-02, -2.4941e-01,  2.6804e-01,\n",
      "         -6.1555e-02,  5.5267e-02, -1.6262e-01],\n",
      "        [ 3.0862e-01,  2.6542e-01,  7.3167e-02, -1.9821e-01, -2.8635e-01,\n",
      "          1.2474e-01,  3.3645e-01,  2.7906e-01],\n",
      "        [ 3.4865e-01,  6.7802e-02, -8.2612e-04,  3.1694e-01, -4.5233e-02,\n",
      "         -2.8720e-01,  3.5180e-02,  5.8255e-02],\n",
      "        [-2.1177e-02, -3.2574e-01,  2.5122e-01,  3.2204e-01, -3.0262e-01,\n",
      "         -1.2875e-01,  6.9670e-02, -1.3609e-01],\n",
      "        [-2.4601e-01, -2.5256e-01, -2.4801e-01,  1.1680e-01,  1.2209e-01,\n",
      "          5.7040e-02, -2.7920e-01, -3.3343e-01],\n",
      "        [-8.6272e-02, -1.8346e-01, -9.4475e-02,  2.0540e-01, -2.5589e-01,\n",
      "          3.4083e-01, -1.2524e-01, -1.0196e-01],\n",
      "        [ 1.8062e-01,  7.3658e-02, -7.3913e-02, -8.7496e-02,  1.7318e-01,\n",
      "         -3.4652e-01,  1.7266e-02, -2.3297e-01],\n",
      "        [ 3.1238e-01,  6.2468e-02, -1.8889e-02, -2.9636e-01,  9.6284e-02,\n",
      "          5.3720e-02,  2.1351e-01, -9.5920e-02],\n",
      "        [-9.1129e-02, -2.2250e-01,  2.9694e-01, -2.1225e-01,  2.5910e-02,\n",
      "         -1.4699e-01, -2.0670e-01, -2.7473e-01],\n",
      "        [-8.5186e-02, -1.9328e-01, -7.8869e-02, -7.1277e-02, -2.6807e-01,\n",
      "         -1.2086e-01, -1.3529e-01,  7.3229e-02],\n",
      "        [-1.3660e-01, -2.9000e-01,  3.4117e-01, -3.2120e-01,  3.1555e-01,\n",
      "         -2.8078e-01,  6.7490e-02, -2.4955e-01],\n",
      "        [-4.6044e-02, -2.2349e-01,  3.3911e-01, -2.4072e-01, -2.8740e-01,\n",
      "         -1.2018e-02, -1.5430e-01,  2.6441e-01],\n",
      "        [-6.6396e-02,  9.2641e-02,  1.0889e-02, -2.4371e-01,  1.1648e-02,\n",
      "          2.1468e-01, -2.5566e-02, -2.6467e-01],\n",
      "        [-2.0864e-01,  3.3707e-01, -2.1630e-01,  1.1720e-01, -2.2354e-01,\n",
      "         -3.3993e-01,  3.1412e-01,  2.8490e-01],\n",
      "        [-1.8389e-01, -5.6372e-02,  1.1820e-01, -6.9050e-02, -2.7479e-01,\n",
      "          3.4325e-01, -2.3203e-01, -1.3937e-02],\n",
      "        [ 1.7798e-01,  2.6712e-01,  3.3485e-03, -2.2851e-01, -2.1915e-01,\n",
      "         -2.1629e-01, -7.6363e-02,  1.5205e-01],\n",
      "        [ 1.9708e-01,  3.8173e-02,  3.2887e-01,  1.8177e-01,  1.1440e-01,\n",
      "         -1.5623e-01,  1.2306e-02,  3.5325e-01],\n",
      "        [-2.6678e-01,  2.5022e-01,  2.5389e-01, -1.2025e-01,  1.4203e-01,\n",
      "          9.0949e-02, -6.4671e-04, -2.0242e-01],\n",
      "        [-5.5068e-02, -1.9407e-01,  3.2038e-01,  2.5943e-01,  1.9306e-01,\n",
      "         -2.9925e-01,  2.4809e-02,  1.0223e-01],\n",
      "        [ 1.8884e-01,  2.0165e-01,  1.5391e-01,  3.1256e-01,  5.7995e-05,\n",
      "         -6.3983e-02,  2.4855e-01,  1.6820e-02],\n",
      "        [-2.4183e-02, -2.8172e-01, -1.9331e-01,  2.5106e-01,  2.3848e-01,\n",
      "         -2.8643e-01, -3.0567e-01,  1.2328e-01],\n",
      "        [ 2.0380e-01, -3.3105e-01,  1.6381e-01, -1.8141e-01, -3.0452e-01,\n",
      "         -2.2838e-01, -1.3846e-01, -2.0841e-01],\n",
      "        [ 1.0418e-01,  1.3181e-01, -2.1193e-01, -1.7090e-01,  7.5647e-02,\n",
      "          1.4280e-01, -3.4046e-01, -9.8620e-02],\n",
      "        [-3.1229e-01, -2.1006e-01,  2.0199e-01,  3.4970e-01,  2.6649e-02,\n",
      "         -5.3773e-02, -2.9481e-02,  2.1491e-01]], requires_grad=True)\n",
      "Parameter containing:\n",
      "tensor([ 0.0276,  0.0886,  0.1559, -0.3343, -0.0062, -0.2663,  0.2434,  0.3417,\n",
      "        -0.1097, -0.3009, -0.0719, -0.0319,  0.1005, -0.1808, -0.0713, -0.1281,\n",
      "         0.2065,  0.2147, -0.0693, -0.2879,  0.0908,  0.1834, -0.2822, -0.1246,\n",
      "         0.1991, -0.3092, -0.1228, -0.3364, -0.0348, -0.0338,  0.1280, -0.1321],\n",
      "       requires_grad=True)\n",
      "Parameter containing:\n",
      "tensor([[ 0.0513,  0.1278, -0.0527,  ...,  0.0984, -0.1281, -0.0865],\n",
      "        [-0.1508,  0.1171,  0.0209,  ..., -0.0988, -0.1678, -0.0497],\n",
      "        [ 0.0719, -0.0853, -0.0873,  ...,  0.1401, -0.0574,  0.0379],\n",
      "        ...,\n",
      "        [ 0.0803,  0.1188, -0.0661,  ...,  0.1403,  0.1130, -0.0866],\n",
      "        [-0.1626, -0.0174,  0.0873,  ...,  0.0371, -0.1448,  0.0571],\n",
      "        [-0.0229,  0.1011, -0.0211,  ...,  0.0288, -0.0339, -0.1652]],\n",
      "       requires_grad=True)\n",
      "Parameter containing:\n",
      "tensor([ 0.0446,  0.0603,  0.0642,  0.1197,  0.1330, -0.1228, -0.0808,  0.0219,\n",
      "        -0.0851,  0.0355, -0.0248,  0.0784, -0.1577,  0.1088,  0.1326, -0.0289,\n",
      "        -0.0928,  0.1152,  0.0896, -0.1655,  0.1646, -0.0953, -0.0147, -0.1044,\n",
      "         0.1039, -0.0545, -0.0568,  0.1493, -0.1000, -0.1590, -0.0325, -0.1518,\n",
      "         0.1414, -0.1754, -0.0154,  0.0921, -0.1214, -0.1462, -0.0993, -0.1052,\n",
      "         0.0466,  0.1705, -0.1436, -0.0790, -0.1419,  0.0197, -0.0712, -0.1386,\n",
      "        -0.0469,  0.0444, -0.0770,  0.0233, -0.1119,  0.1673, -0.1253,  0.1678,\n",
      "        -0.1481,  0.0492, -0.0113, -0.1247,  0.1319, -0.0410, -0.1425, -0.1385,\n",
      "         0.1007,  0.1252,  0.0168,  0.1331, -0.0892,  0.1741,  0.1399,  0.0016,\n",
      "         0.1690, -0.0745,  0.0074, -0.0355,  0.0765, -0.0537,  0.0708, -0.0444,\n",
      "        -0.0024,  0.0790, -0.1186,  0.0045,  0.1235, -0.0334,  0.1679, -0.0020,\n",
      "         0.1514, -0.1034,  0.0217,  0.0154, -0.0484, -0.0656, -0.0416,  0.0945,\n",
      "         0.1274,  0.0593, -0.0497, -0.0228, -0.0802, -0.1186, -0.1183,  0.0887,\n",
      "        -0.0031,  0.1652, -0.0762, -0.1366,  0.1148, -0.0173,  0.1429,  0.1218,\n",
      "        -0.0493,  0.1140, -0.0068,  0.0836, -0.0602,  0.0860,  0.0304,  0.1417,\n",
      "         0.0127,  0.0061, -0.0365,  0.0655, -0.1230,  0.1108, -0.0404,  0.0937],\n",
      "       requires_grad=True)\n",
      "Parameter containing:\n",
      "tensor([[ 0.0559,  0.0735, -0.0037,  ..., -0.0759, -0.0487,  0.0676],\n",
      "        [-0.0322, -0.0207,  0.0400,  ..., -0.0037,  0.0849, -0.0767],\n",
      "        [-0.0508,  0.0742, -0.0404,  ...,  0.0738,  0.0612, -0.0717],\n",
      "        ...,\n",
      "        [ 0.0626, -0.0384, -0.0590,  ..., -0.0407, -0.0521,  0.0100],\n",
      "        [ 0.0477,  0.0203, -0.0378,  ...,  0.0094,  0.0531,  0.0624],\n",
      "        [-0.0233, -0.0818,  0.0851,  ...,  0.0471,  0.0424,  0.0641]],\n",
      "       requires_grad=True)\n",
      "Parameter containing:\n",
      "tensor([ 0.0238,  0.0139, -0.0352, -0.0717,  0.0716, -0.0209, -0.0742,  0.0406,\n",
      "        -0.0342,  0.0797,  0.0754,  0.0004, -0.0127, -0.0654, -0.0111, -0.0870,\n",
      "         0.0223, -0.0291, -0.0674, -0.0035, -0.0325,  0.0282,  0.0260, -0.0846,\n",
      "        -0.0232,  0.0691,  0.0072, -0.0243, -0.0244,  0.0279,  0.0649,  0.0012,\n",
      "         0.0280, -0.0280, -0.0364,  0.0218, -0.0476, -0.0643,  0.0123, -0.0058,\n",
      "         0.0584, -0.0762,  0.0507, -0.0654, -0.0759, -0.0803, -0.0370, -0.0217,\n",
      "        -0.0741, -0.0090,  0.0880,  0.0868, -0.0737,  0.0311, -0.0054, -0.0203,\n",
      "         0.0509, -0.0239, -0.0371,  0.0868,  0.0512, -0.0395, -0.0667,  0.0082,\n",
      "         0.0250, -0.0498,  0.0215, -0.0038, -0.0125, -0.0266, -0.0587,  0.0578,\n",
      "        -0.0842, -0.0396, -0.0711, -0.0771,  0.0502, -0.0230, -0.0109, -0.0785,\n",
      "         0.0423, -0.0354,  0.0358,  0.0037,  0.0621,  0.0003, -0.0722, -0.0404,\n",
      "         0.0565, -0.0710, -0.0395, -0.0382,  0.0641,  0.0380, -0.0365, -0.0025,\n",
      "        -0.0285,  0.0493,  0.0265,  0.0810, -0.0377,  0.0553,  0.0655,  0.0385,\n",
      "         0.0435,  0.0460, -0.0363, -0.0317, -0.0350,  0.0618,  0.0418,  0.0387,\n",
      "        -0.0203, -0.0042, -0.0158,  0.0153, -0.0474, -0.0173,  0.0083,  0.0778,\n",
      "        -0.0836,  0.0506, -0.0153, -0.0531,  0.0219,  0.0558,  0.0569, -0.0680,\n",
      "        -0.0315, -0.0702, -0.0153,  0.0138, -0.0289,  0.0617,  0.0835, -0.0545,\n",
      "        -0.0056, -0.0418, -0.0177,  0.0310, -0.0860, -0.0696,  0.0819, -0.0309,\n",
      "         0.0274,  0.0187,  0.0649,  0.0084,  0.0527,  0.0048,  0.0224,  0.0111,\n",
      "         0.0312,  0.0593,  0.0125,  0.0500,  0.0082,  0.0449,  0.0704,  0.0446,\n",
      "        -0.0476,  0.0113,  0.0440,  0.0180, -0.0858,  0.0292,  0.0361, -0.0318,\n",
      "         0.0100, -0.0576,  0.0348, -0.0596, -0.0107,  0.0596, -0.0761,  0.0790,\n",
      "        -0.0270,  0.0304,  0.0256,  0.0426,  0.0738, -0.0434, -0.0124, -0.0812,\n",
      "        -0.0178,  0.0803, -0.0783, -0.0510,  0.0297, -0.0147,  0.0871, -0.0178,\n",
      "         0.0164, -0.0292, -0.0854, -0.0273,  0.0007, -0.0226,  0.0816,  0.0784,\n",
      "         0.0441,  0.0630, -0.0133, -0.0703, -0.0743,  0.0028,  0.0603, -0.0764,\n",
      "         0.0315,  0.0419, -0.0856, -0.0033,  0.0155,  0.0792, -0.0867,  0.0535,\n",
      "         0.0012,  0.0152,  0.0019,  0.0209,  0.0281, -0.0595, -0.0317, -0.0883,\n",
      "         0.0169,  0.0369, -0.0850, -0.0731, -0.0722, -0.0585,  0.0603,  0.0537,\n",
      "         0.0721,  0.0601,  0.0339, -0.0339, -0.0460,  0.0862, -0.0498, -0.0676,\n",
      "         0.0143, -0.0363, -0.0728,  0.0110, -0.0107, -0.0394, -0.0276, -0.0625,\n",
      "         0.0078,  0.0043,  0.0755, -0.0187, -0.0094,  0.0406, -0.0360, -0.0624,\n",
      "         0.0809,  0.0432, -0.0016,  0.0254,  0.0115,  0.0391, -0.0619, -0.0660,\n",
      "         0.0779,  0.0400, -0.0866, -0.0157,  0.0656,  0.0530,  0.0788, -0.0874,\n",
      "        -0.0599, -0.0177, -0.0454, -0.0375,  0.0788, -0.0839,  0.0758,  0.0050,\n",
      "        -0.0530,  0.0218,  0.0541,  0.0625,  0.0077, -0.0399, -0.0743, -0.0734,\n",
      "         0.0731,  0.0738, -0.0176, -0.0041, -0.0383,  0.0715,  0.0013,  0.0459,\n",
      "         0.0476, -0.0097,  0.0034,  0.0701,  0.0148,  0.0774,  0.0478,  0.0076,\n",
      "        -0.0118,  0.0659,  0.0739, -0.0638,  0.0392,  0.0811, -0.0557, -0.0022,\n",
      "        -0.0120,  0.0221, -0.0110, -0.0427,  0.0830,  0.0119, -0.0327, -0.0832,\n",
      "         0.0209,  0.0459, -0.0027, -0.0025,  0.0678, -0.0714,  0.0028, -0.0552,\n",
      "        -0.0081, -0.0219, -0.0218,  0.0521,  0.0607,  0.0543,  0.0051,  0.0819,\n",
      "         0.0596, -0.0619, -0.0817, -0.0397, -0.0778,  0.0545, -0.0087,  0.0532,\n",
      "         0.0811,  0.0437,  0.0129,  0.0869,  0.0063,  0.0077, -0.0595,  0.0352,\n",
      "         0.0422,  0.0566, -0.0863, -0.0717, -0.0319,  0.0440, -0.0359, -0.0169,\n",
      "        -0.0488,  0.0393,  0.0714, -0.0285,  0.0686,  0.0553, -0.0771,  0.0719,\n",
      "        -0.0285, -0.0075, -0.0859, -0.0808, -0.0426,  0.0614, -0.0093,  0.0500,\n",
      "         0.0761, -0.0092, -0.0553, -0.0404,  0.0401, -0.0160, -0.0190, -0.0277,\n",
      "         0.0622, -0.0355, -0.0709, -0.0267, -0.0798,  0.0858, -0.0199, -0.0644,\n",
      "        -0.0536,  0.0491,  0.0780,  0.0644,  0.0537,  0.0837,  0.0417, -0.0066,\n",
      "        -0.0172, -0.0685, -0.0827,  0.0130,  0.0244, -0.0176,  0.0199, -0.0677,\n",
      "        -0.0800, -0.0319, -0.0262, -0.0210, -0.0731, -0.0166,  0.0803,  0.0125,\n",
      "         0.0059,  0.0463, -0.0296,  0.0547,  0.0250, -0.0235,  0.0690,  0.0073,\n",
      "         0.0326, -0.0415, -0.0643, -0.0770, -0.0311,  0.0345, -0.0543, -0.0596,\n",
      "         0.0719, -0.0575, -0.0353,  0.0737,  0.0472, -0.0556, -0.0684, -0.0701,\n",
      "         0.0655, -0.0877,  0.0569, -0.0663,  0.0501,  0.0352,  0.0105,  0.0595,\n",
      "         0.0218, -0.0175,  0.0026,  0.0219,  0.0861,  0.0178, -0.0578, -0.0872,\n",
      "         0.0412,  0.0721,  0.0432, -0.0459,  0.0705, -0.0854, -0.0569, -0.0092,\n",
      "        -0.0622,  0.0052, -0.0860,  0.0463,  0.0634,  0.0152,  0.0816,  0.0843,\n",
      "         0.0225, -0.0152,  0.0068,  0.0295,  0.0016,  0.0545, -0.0837,  0.0181,\n",
      "         0.0488,  0.0025, -0.0016, -0.0592, -0.0501, -0.0441,  0.0419,  0.0584,\n",
      "         0.0035,  0.0803, -0.0166,  0.0837,  0.0550,  0.0013,  0.0103,  0.0179,\n",
      "         0.0375, -0.0610, -0.0715,  0.0716, -0.0253, -0.0009, -0.0732, -0.0615,\n",
      "         0.0098,  0.0052,  0.0728,  0.0816,  0.0403, -0.0056, -0.0500, -0.0734],\n",
      "       requires_grad=True)\n",
      "Parameter containing:\n",
      "tensor([[-0.0267, -0.0416, -0.0069,  ...,  0.0066, -0.0327,  0.0360],\n",
      "        [ 0.0317, -0.0178,  0.0436,  ...,  0.0380,  0.0399,  0.0224],\n",
      "        [-0.0385,  0.0421, -0.0194,  ...,  0.0431,  0.0200, -0.0180],\n",
      "        ...,\n",
      "        [-0.0432,  0.0129,  0.0051,  ...,  0.0025,  0.0323,  0.0213],\n",
      "        [ 0.0223,  0.0158,  0.0187,  ..., -0.0440,  0.0370,  0.0152],\n",
      "        [-0.0037,  0.0351, -0.0322,  ..., -0.0202,  0.0251, -0.0437]],\n",
      "       requires_grad=True)\n",
      "Parameter containing:\n",
      "tensor([-0.0374, -0.0110,  0.0431, -0.0029, -0.0077,  0.0436, -0.0169, -0.0392],\n",
      "       requires_grad=True)\n"
     ]
    }
   ],
   "source": [
    "for i in model.parameters():\n",
    "    print(i)"
   ]
  },
  {
   "cell_type": "code",
   "execution_count": null,
   "metadata": {},
   "outputs": [],
   "source": [
    "#parameters들이 적게 나와서 생기는 문제인것 같다(int값 유의) 그냥 h랑 w를 곱해버리면 어떨까?"
   ]
  }
 ],
 "metadata": {
  "interpreter": {
   "hash": "4d330885aeb5bc38bbdda26e3e3241df7789a4a394e63682444f6e4cf96f8cea"
  },
  "kernelspec": {
   "display_name": "Python 3.9.12 ('torch')",
   "language": "python",
   "name": "python3"
  },
  "language_info": {
   "codemirror_mode": {
    "name": "ipython",
    "version": 3
   },
   "file_extension": ".py",
   "mimetype": "text/x-python",
   "name": "python",
   "nbconvert_exporter": "python",
   "pygments_lexer": "ipython3",
   "version": "3.9.12"
  },
  "orig_nbformat": 4
 },
 "nbformat": 4,
 "nbformat_minor": 2
}
