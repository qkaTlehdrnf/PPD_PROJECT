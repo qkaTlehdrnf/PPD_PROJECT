{
 "cells": [
  {
   "cell_type": "code",
   "execution_count": 14,
   "metadata": {},
   "outputs": [],
   "source": [
    "import numpy as np\n",
    "import tensorflow as tf\n",
    "from PIL import Image"
   ]
  },
  {
   "cell_type": "code",
   "execution_count": 47,
   "metadata": {},
   "outputs": [],
   "source": [
    "background = np.zeros((1000,1000),dtype=bool)"
   ]
  },
  {
   "cell_type": "code",
   "execution_count": 34,
   "metadata": {},
   "outputs": [],
   "source": [
    "# matrix into image file\n",
    "def bg2img(bg):\n",
    "    img = np.zeros((bg.shape[0],bg.shape[1],3),dtype=np.uint8)\n",
    "    img[bg==True]=(0,0,0)\n",
    "    img[bg==False]=(255,255,255)\n",
    "    img = Image.fromarray(img, 'RGB')\n",
    "    img.save('background.png')\n",
    "    img.show()\n",
    "    \n",
    "    "
   ]
  },
  {
   "cell_type": "code",
   "execution_count": 48,
   "metadata": {},
   "outputs": [],
   "source": [
    "machine1 = np.ones((100,300),dtype=bool)\n",
    "machine1[0:50,:100]=False\n",
    "move=[100,200]\n",
    "background[move[0]:move[0]+machine1.shape[0],move[1]:move[1]+machine1.shape[1]] = machine1\n",
    "bg2img(background)"
   ]
  },
  {
   "cell_type": "code",
   "execution_count": null,
   "metadata": {},
   "outputs": [],
   "source": []
  }
 ],
 "metadata": {
  "interpreter": {
   "hash": "3895b6863f90826e2fc70493d82c3636e67ee0b58e4fc4434c9a48d6414567f2"
  },
  "kernelspec": {
   "display_name": "Python 3.9.12 ('tf')",
   "language": "python",
   "name": "python3"
  },
  "language_info": {
   "codemirror_mode": {
    "name": "ipython",
    "version": 3
   },
   "file_extension": ".py",
   "mimetype": "text/x-python",
   "name": "python",
   "nbconvert_exporter": "python",
   "pygments_lexer": "ipython3",
   "version": "3.9.12"
  },
  "orig_nbformat": 4
 },
 "nbformat": 4,
 "nbformat_minor": 2
}
