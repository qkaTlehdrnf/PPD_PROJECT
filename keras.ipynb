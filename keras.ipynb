{
 "cells": [
  {
   "cell_type": "code",
   "execution_count": 51,
   "metadata": {},
   "outputs": [],
   "source": [
    "import os\n",
    "import pandas as pd\n",
    "import numpy as np\n",
    "import networkx as nx\n",
    "import matplotlib.pyplot as plt\n",
    "import tensorflow as tf\n",
    "from tensorflow import keras\n",
    "from tensorflow.keras import layers"
   ]
  },
  {
   "cell_type": "code",
   "execution_count": 52,
   "metadata": {},
   "outputs": [],
   "source": [
    "zip_file = keras.utils.get_file(\n",
    "    fname=\"cora.tgz\",\n",
    "    origin=\"https://linqs-data.soe.ucsc.edu/public/lbc/cora.tgz\",\n",
    "    extract=True,\n",
    ")\n",
    "data_dir = os.path.join(os.path.dirname(zip_file), \"cora\")"
   ]
  },
  {
   "cell_type": "code",
   "execution_count": 53,
   "metadata": {},
   "outputs": [
    {
     "name": "stdout",
     "output_type": "stream",
     "text": [
      "Citations shape: (5429, 2)\n"
     ]
    }
   ],
   "source": [
    "citations = pd.read_csv(\n",
    "    os.path.join(data_dir, \"cora.cites\"),\n",
    "    sep=\"\\t\",\n",
    "    header=None,\n",
    "    names=[\"target\", \"source\"],\n",
    ")\n",
    "print(\"Citations shape:\", citations.shape)"
   ]
  },
  {
   "cell_type": "code",
   "execution_count": 54,
   "metadata": {},
   "outputs": [
    {
     "data": {
      "text/html": [
       "<div>\n",
       "<style scoped>\n",
       "    .dataframe tbody tr th:only-of-type {\n",
       "        vertical-align: middle;\n",
       "    }\n",
       "\n",
       "    .dataframe tbody tr th {\n",
       "        vertical-align: top;\n",
       "    }\n",
       "\n",
       "    .dataframe thead th {\n",
       "        text-align: right;\n",
       "    }\n",
       "</style>\n",
       "<table border=\"1\" class=\"dataframe\">\n",
       "  <thead>\n",
       "    <tr style=\"text-align: right;\">\n",
       "      <th></th>\n",
       "      <th>target</th>\n",
       "      <th>source</th>\n",
       "    </tr>\n",
       "  </thead>\n",
       "  <tbody>\n",
       "    <tr>\n",
       "      <th>464</th>\n",
       "      <td>1365</td>\n",
       "      <td>90888</td>\n",
       "    </tr>\n",
       "    <tr>\n",
       "      <th>217</th>\n",
       "      <td>117</td>\n",
       "      <td>28278</td>\n",
       "    </tr>\n",
       "    <tr>\n",
       "      <th>616</th>\n",
       "      <td>2654</td>\n",
       "      <td>1106630</td>\n",
       "    </tr>\n",
       "    <tr>\n",
       "      <th>4045</th>\n",
       "      <td>116545</td>\n",
       "      <td>1128319</td>\n",
       "    </tr>\n",
       "    <tr>\n",
       "      <th>3245</th>\n",
       "      <td>51049</td>\n",
       "      <td>1154232</td>\n",
       "    </tr>\n",
       "  </tbody>\n",
       "</table>\n",
       "</div>"
      ],
      "text/plain": [
       "      target   source\n",
       "464     1365    90888\n",
       "217      117    28278\n",
       "616     2654  1106630\n",
       "4045  116545  1128319\n",
       "3245   51049  1154232"
      ]
     },
     "execution_count": 54,
     "metadata": {},
     "output_type": "execute_result"
    }
   ],
   "source": [
    "citations.sample(frac=1).head()"
   ]
  },
  {
   "cell_type": "code",
   "execution_count": 55,
   "metadata": {},
   "outputs": [
    {
     "name": "stdout",
     "output_type": "stream",
     "text": [
      "Papers shape: (2708, 1435)\n"
     ]
    }
   ],
   "source": [
    "column_names = [\"paper_id\"] + [f\"term_{idx}\" for idx in range(1433)] + [\"subject\"]\n",
    "papers = pd.read_csv(\n",
    "    os.path.join(data_dir, \"cora.content\"), sep=\"\\t\", header=None, names=column_names,\n",
    ")\n",
    "print(\"Papers shape:\", papers.shape)"
   ]
  },
  {
   "cell_type": "code",
   "execution_count": 56,
   "metadata": {},
   "outputs": [
    {
     "name": "stdout",
     "output_type": "stream",
     "text": [
      "Neural_Networks           818\n",
      "Probabilistic_Methods     426\n",
      "Genetic_Algorithms        418\n",
      "Theory                    351\n",
      "Case_Based                298\n",
      "Reinforcement_Learning    217\n",
      "Rule_Learning             180\n",
      "Name: subject, dtype: int64\n"
     ]
    }
   ],
   "source": [
    "print(papers.subject.value_counts())"
   ]
  },
  {
   "cell_type": "code",
   "execution_count": 57,
   "metadata": {},
   "outputs": [],
   "source": [
    "class_values = sorted(papers[\"subject\"].unique())\n",
    "class_idx = {name: id for id, name in enumerate(class_values)}\n",
    "paper_idx = {name: idx for idx, name in enumerate(sorted(papers[\"paper_id\"].unique()))}\n",
    "\n",
    "papers[\"paper_id\"] = papers[\"paper_id\"].apply(lambda name: paper_idx[name])\n",
    "citations[\"source\"] = citations[\"source\"].apply(lambda name: paper_idx[name])\n",
    "citations[\"target\"] = citations[\"target\"].apply(lambda name: paper_idx[name])\n",
    "papers[\"subject\"] = papers[\"subject\"].apply(lambda value: class_idx[value])"
   ]
  },
  {
   "cell_type": "code",
   "execution_count": 58,
   "metadata": {},
   "outputs": [
    {
     "ename": "AttributeError",
     "evalue": "module 'scipy.sparse' has no attribute 'coo_array'",
     "output_type": "error",
     "traceback": [
      "\u001b[1;31m---------------------------------------------------------------------------\u001b[0m",
      "\u001b[1;31mAttributeError\u001b[0m                            Traceback (most recent call last)",
      "\u001b[1;32md:\\GitHub\\PPD_PROJECT\\keras.ipynb Cell 8'\u001b[0m in \u001b[0;36m<cell line: 5>\u001b[1;34m()\u001b[0m\n\u001b[0;32m      <a href='vscode-notebook-cell:/d%3A/GitHub/PPD_PROJECT/keras.ipynb#ch0000007?line=2'>3</a>\u001b[0m cora_graph \u001b[39m=\u001b[39m nx\u001b[39m.\u001b[39mfrom_pandas_edgelist(citations\u001b[39m.\u001b[39msample(n\u001b[39m=\u001b[39m\u001b[39m1500\u001b[39m))\n\u001b[0;32m      <a href='vscode-notebook-cell:/d%3A/GitHub/PPD_PROJECT/keras.ipynb#ch0000007?line=3'>4</a>\u001b[0m subjects \u001b[39m=\u001b[39m \u001b[39mlist\u001b[39m(papers[papers[\u001b[39m\"\u001b[39m\u001b[39mpaper_id\u001b[39m\u001b[39m\"\u001b[39m]\u001b[39m.\u001b[39misin(\u001b[39mlist\u001b[39m(cora_graph\u001b[39m.\u001b[39mnodes))][\u001b[39m\"\u001b[39m\u001b[39msubject\u001b[39m\u001b[39m\"\u001b[39m])\n\u001b[1;32m----> <a href='vscode-notebook-cell:/d%3A/GitHub/PPD_PROJECT/keras.ipynb#ch0000007?line=4'>5</a>\u001b[0m nx\u001b[39m.\u001b[39;49mdraw_spring(cora_graph, node_size\u001b[39m=\u001b[39;49m\u001b[39m15\u001b[39;49m, node_color\u001b[39m=\u001b[39;49msubjects)\n",
      "File \u001b[1;32md:\\ProgramData\\Anaconda3\\envs\\tf\\lib\\site-packages\\networkx\\drawing\\nx_pylab.py:1378\u001b[0m, in \u001b[0;36mdraw_spring\u001b[1;34m(G, **kwargs)\u001b[0m\n\u001b[0;32m   <a href='file:///d%3A/ProgramData/Anaconda3/envs/tf/lib/site-packages/networkx/drawing/nx_pylab.py?line=1342'>1343</a>\u001b[0m \u001b[39mdef\u001b[39;00m \u001b[39mdraw_spring\u001b[39m(G, \u001b[39m*\u001b[39m\u001b[39m*\u001b[39mkwargs):\n\u001b[0;32m   <a href='file:///d%3A/ProgramData/Anaconda3/envs/tf/lib/site-packages/networkx/drawing/nx_pylab.py?line=1343'>1344</a>\u001b[0m     \u001b[39m\"\"\"Draw the graph `G` with a spring layout.\u001b[39;00m\n\u001b[0;32m   <a href='file:///d%3A/ProgramData/Anaconda3/envs/tf/lib/site-packages/networkx/drawing/nx_pylab.py?line=1344'>1345</a>\u001b[0m \n\u001b[0;32m   <a href='file:///d%3A/ProgramData/Anaconda3/envs/tf/lib/site-packages/networkx/drawing/nx_pylab.py?line=1345'>1346</a>\u001b[0m \u001b[39m    This is a convenience function equivalent to::\u001b[39;00m\n\u001b[1;32m   (...)\u001b[0m\n\u001b[0;32m   <a href='file:///d%3A/ProgramData/Anaconda3/envs/tf/lib/site-packages/networkx/drawing/nx_pylab.py?line=1375'>1376</a>\u001b[0m \u001b[39m    :func:`~networkx.drawing.layout.spring_layout`\u001b[39;00m\n\u001b[0;32m   <a href='file:///d%3A/ProgramData/Anaconda3/envs/tf/lib/site-packages/networkx/drawing/nx_pylab.py?line=1376'>1377</a>\u001b[0m \u001b[39m    \"\"\"\u001b[39;00m\n\u001b[1;32m-> <a href='file:///d%3A/ProgramData/Anaconda3/envs/tf/lib/site-packages/networkx/drawing/nx_pylab.py?line=1377'>1378</a>\u001b[0m     draw(G, spring_layout(G), \u001b[39m*\u001b[39m\u001b[39m*\u001b[39mkwargs)\n",
      "File \u001b[1;32m<class 'networkx.utils.decorators.argmap'> compilation 8:4\u001b[0m, in \u001b[0;36margmap_spring_layout_5\u001b[1;34m(G, k, pos, fixed, iterations, threshold, weight, scale, center, dim, seed)\u001b[0m\n\u001b[0;32m      <a href='file:///%3Cclass%20%27networkx.utils.decorators.argmap%27%3E%20compilation%208?line=1'>2</a>\u001b[0m \u001b[39mfrom\u001b[39;00m \u001b[39mos\u001b[39;00m\u001b[39m.\u001b[39;00m\u001b[39mpath\u001b[39;00m \u001b[39mimport\u001b[39;00m splitext\n\u001b[0;32m      <a href='file:///%3Cclass%20%27networkx.utils.decorators.argmap%27%3E%20compilation%208?line=2'>3</a>\u001b[0m \u001b[39mfrom\u001b[39;00m \u001b[39mcontextlib\u001b[39;00m \u001b[39mimport\u001b[39;00m contextmanager\n\u001b[1;32m----> <a href='file:///%3Cclass%20%27networkx.utils.decorators.argmap%27%3E%20compilation%208?line=3'>4</a>\u001b[0m \u001b[39mfrom\u001b[39;00m \u001b[39mpathlib\u001b[39;00m \u001b[39mimport\u001b[39;00m Path\n\u001b[0;32m      <a href='file:///%3Cclass%20%27networkx.utils.decorators.argmap%27%3E%20compilation%208?line=5'>6</a>\u001b[0m \u001b[39mimport\u001b[39;00m \u001b[39mnetworkx\u001b[39;00m \u001b[39mas\u001b[39;00m \u001b[39mnx\u001b[39;00m\n\u001b[0;32m      <a href='file:///%3Cclass%20%27networkx.utils.decorators.argmap%27%3E%20compilation%208?line=6'>7</a>\u001b[0m \u001b[39mfrom\u001b[39;00m \u001b[39mnetworkx\u001b[39;00m\u001b[39m.\u001b[39;00m\u001b[39mutils\u001b[39;00m \u001b[39mimport\u001b[39;00m create_random_state, create_py_random_state\n",
      "File \u001b[1;32md:\\ProgramData\\Anaconda3\\envs\\tf\\lib\\site-packages\\networkx\\drawing\\layout.py:476\u001b[0m, in \u001b[0;36mspring_layout\u001b[1;34m(G, k, pos, fixed, iterations, threshold, weight, scale, center, dim, seed)\u001b[0m\n\u001b[0;32m    <a href='file:///d%3A/ProgramData/Anaconda3/envs/tf/lib/site-packages/networkx/drawing/layout.py?line=473'>474</a>\u001b[0m \u001b[39mif\u001b[39;00m \u001b[39mlen\u001b[39m(G) \u001b[39m<\u001b[39m \u001b[39m500\u001b[39m:  \u001b[39m# sparse solver for large graphs\u001b[39;00m\n\u001b[0;32m    <a href='file:///d%3A/ProgramData/Anaconda3/envs/tf/lib/site-packages/networkx/drawing/layout.py?line=474'>475</a>\u001b[0m     \u001b[39mraise\u001b[39;00m \u001b[39mValueError\u001b[39;00m\n\u001b[1;32m--> <a href='file:///d%3A/ProgramData/Anaconda3/envs/tf/lib/site-packages/networkx/drawing/layout.py?line=475'>476</a>\u001b[0m A \u001b[39m=\u001b[39m nx\u001b[39m.\u001b[39;49mto_scipy_sparse_array(G, weight\u001b[39m=\u001b[39;49mweight, dtype\u001b[39m=\u001b[39;49m\u001b[39m\"\u001b[39;49m\u001b[39mf\u001b[39;49m\u001b[39m\"\u001b[39;49m)\n\u001b[0;32m    <a href='file:///d%3A/ProgramData/Anaconda3/envs/tf/lib/site-packages/networkx/drawing/layout.py?line=476'>477</a>\u001b[0m \u001b[39mif\u001b[39;00m k \u001b[39mis\u001b[39;00m \u001b[39mNone\u001b[39;00m \u001b[39mand\u001b[39;00m fixed \u001b[39mis\u001b[39;00m \u001b[39mnot\u001b[39;00m \u001b[39mNone\u001b[39;00m:\n\u001b[0;32m    <a href='file:///d%3A/ProgramData/Anaconda3/envs/tf/lib/site-packages/networkx/drawing/layout.py?line=477'>478</a>\u001b[0m     \u001b[39m# We must adjust k by domain size for layouts not near 1x1\u001b[39;00m\n\u001b[0;32m    <a href='file:///d%3A/ProgramData/Anaconda3/envs/tf/lib/site-packages/networkx/drawing/layout.py?line=478'>479</a>\u001b[0m     nnodes, _ \u001b[39m=\u001b[39m A\u001b[39m.\u001b[39mshape\n",
      "File \u001b[1;32md:\\ProgramData\\Anaconda3\\envs\\tf\\lib\\site-packages\\networkx\\convert_matrix.py:921\u001b[0m, in \u001b[0;36mto_scipy_sparse_array\u001b[1;34m(G, nodelist, dtype, weight, format)\u001b[0m\n\u001b[0;32m    <a href='file:///d%3A/ProgramData/Anaconda3/envs/tf/lib/site-packages/networkx/convert_matrix.py?line=918'>919</a>\u001b[0m         r \u001b[39m+\u001b[39m\u001b[39m=\u001b[39m diag_index\n\u001b[0;32m    <a href='file:///d%3A/ProgramData/Anaconda3/envs/tf/lib/site-packages/networkx/convert_matrix.py?line=919'>920</a>\u001b[0m         c \u001b[39m+\u001b[39m\u001b[39m=\u001b[39m diag_index\n\u001b[1;32m--> <a href='file:///d%3A/ProgramData/Anaconda3/envs/tf/lib/site-packages/networkx/convert_matrix.py?line=920'>921</a>\u001b[0m     A \u001b[39m=\u001b[39m sp\u001b[39m.\u001b[39;49msparse\u001b[39m.\u001b[39;49mcoo_array((d, (r, c)), shape\u001b[39m=\u001b[39m(nlen, nlen), dtype\u001b[39m=\u001b[39mdtype)\n\u001b[0;32m    <a href='file:///d%3A/ProgramData/Anaconda3/envs/tf/lib/site-packages/networkx/convert_matrix.py?line=921'>922</a>\u001b[0m \u001b[39mtry\u001b[39;00m:\n\u001b[0;32m    <a href='file:///d%3A/ProgramData/Anaconda3/envs/tf/lib/site-packages/networkx/convert_matrix.py?line=922'>923</a>\u001b[0m     \u001b[39mreturn\u001b[39;00m A\u001b[39m.\u001b[39masformat(\u001b[39mformat\u001b[39m)\n",
      "\u001b[1;31mAttributeError\u001b[0m: module 'scipy.sparse' has no attribute 'coo_array'"
     ]
    },
    {
     "data": {
      "text/plain": [
       "<Figure size 720x720 with 0 Axes>"
      ]
     },
     "metadata": {},
     "output_type": "display_data"
    }
   ],
   "source": [
    "plt.figure(figsize=(10, 10))\n",
    "colors = papers[\"subject\"].tolist()\n",
    "cora_graph = nx.from_pandas_edgelist(citations.sample(n=1500))\n",
    "subjects = list(papers[papers[\"paper_id\"].isin(list(cora_graph.nodes))][\"subject\"])\n",
    "nx.draw_spring(cora_graph, node_size=15, node_color=subjects)"
   ]
  },
  {
   "cell_type": "code",
   "execution_count": null,
   "metadata": {},
   "outputs": [],
   "source": []
  }
 ],
 "metadata": {
  "interpreter": {
   "hash": "6e4315d721ffbac66f5c38b519160587f8b26ea0abae3ffba7b8d6ddbc235490"
  },
  "kernelspec": {
   "display_name": "Python 3.9.12 ('tf')",
   "language": "python",
   "name": "python3"
  },
  "language_info": {
   "codemirror_mode": {
    "name": "ipython",
    "version": 3
   },
   "file_extension": ".py",
   "mimetype": "text/x-python",
   "name": "python",
   "nbconvert_exporter": "python",
   "pygments_lexer": "ipython3",
   "version": "3.9.12"
  },
  "orig_nbformat": 4
 },
 "nbformat": 4,
 "nbformat_minor": 2
}
