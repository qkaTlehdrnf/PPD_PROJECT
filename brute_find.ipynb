{
 "cells": [
  {
   "cell_type": "code",
   "execution_count": 1,
   "metadata": {},
   "outputs": [],
   "source": [
    "from machine_layout import MachineTemplate, BackgroundTemplate, BoundaryError\n",
    "import numpy as np\n",
    "import random\n",
    "import time\n",
    "from copy import deepcopy\n",
    "from tqdm import trange"
   ]
  },
  {
   "cell_type": "code",
   "execution_count": 2,
   "metadata": {},
   "outputs": [],
   "source": [
    "m1 = np.ones([20, 10])\n",
    "m2 = np.ones([10, 20])\n",
    "m3 = np.ones([30, 20])\n",
    "m4 = np.ones([10, 30])\n",
    "\n",
    "machine1 = MachineTemplate(m1, 'm1', inandoutpos = [[10,0],[20,10]])\n",
    "machine2 = MachineTemplate(m2, 'm2', inandoutpos = [[10,0],[0,15]])\n",
    "machine3 = MachineTemplate(m3, 'm3', inandoutpos = [[20,0],[20,20]])\n",
    "machine4 = MachineTemplate(m4, 'm4', inandoutpos = [[0,20],[10,30]])\n",
    "\n",
    "ICN = BackgroundTemplate(np.zeros([100, 100]))\n",
    "ICN.machine_add(machine1)\n",
    "ICN.machine_add(machine2)\n",
    "ICN.machine_add(machine3)\n",
    "ICN.machine_add(machine4)\n",
    "\n",
    "ICN.product_line(\"p1\", ['m1', 'm2', 'm3', 'm4'])\n",
    "ICN.product_line(\"p2\", ['m1', 'm2', 'm3'])\n",
    "ICN.product_line(\"p3\", ['m2', 'm3'])\n",
    "ICN.product_line(\"p4\", ['m3', 'm4', 'm1'])\n",
    "machines = ['m1', 'm2', 'm3', 'm4']\n",
    "h, w = ICN.bg.shape"
   ]
  },
  {
   "cell_type": "code",
   "execution_count": 3,
   "metadata": {},
   "outputs": [],
   "source": [
    "def factory_random_batch(ICN:BackgroundTemplate):\n",
    "    random.seed(time.time())\n",
    "    ICN.reset_bg()\n",
    "    batch_state = []\n",
    "    for m_code in machines:\n",
    "        while True:\n",
    "            randh = random.randint(0, h-10)\n",
    "            randw = random.randint(0, w-10)\n",
    "            try:\n",
    "                ICN.machine_batch([randh, randw], m_code)\n",
    "                batch_state.append([randh, randw])\n",
    "                break\n",
    "            except BoundaryError as e:\n",
    "                continue\n",
    "    return np.array(batch_state).flatten()\n",
    "    "
   ]
  },
  {
   "cell_type": "code",
   "execution_count": 4,
   "metadata": {},
   "outputs": [],
   "source": [
    "def factory_batch_loss(ICN: BackgroundTemplate, batch_state, collide_mul = 8):\n",
    "    ICN.reset_bg()\n",
    "    machines = ['m1', 'm2', 'm3', 'm4']\n",
    "    for idx, m_code in enumerate(machines):\n",
    "        try:\n",
    "            ICN.machine_batch(batch_state[idx*2:idx*2+2], m_code)\n",
    "        except BoundaryError as e:\n",
    "            return np.array(1e4)\n",
    "    return np.array(ICN.loss(collide_mul=8))"
   ]
  },
  {
   "cell_type": "code",
   "execution_count": 24,
   "metadata": {},
   "outputs": [
    {
     "name": "stderr",
     "output_type": "stream",
     "text": [
      "100%: 100%|██████████| 100/100 [00:15<00:00,  6.46it/s]\n"
     ]
    }
   ],
   "source": [
    "epoch = int(1e2)\n",
    "best_loss = int(1e3)\n",
    "best_best_loss = int(1e3)\n",
    "best_model = None\n",
    "batch_size = int(1e2)#\n",
    "best_cases = []"
   ]
  },
  {
   "cell_type": "code",
   "execution_count": null,
   "metadata": {},
   "outputs": [],
   "source": [
    "def factory_batch_change2min(factory, batch, steps, collide_mul = 2, batch_change = 100):\n",
    "    pre_batch = deepcopy(batch)\n",
    "    def_loss = factory_batch_loss(factory, batch, collide_mul = 2)\n",
    "    new_loss = def_loss\n",
    "    \n",
    "    for i in steps:\n",
    "        for j in range(batch_change):\n",
    "            pre_batch = deepcopy(batch)\n",
    "            for k in range(len(pre_batch)):\n",
    "                pre_batch[k] += random.randint(-i,i)\n",
    "            new_loss = factory_batch_loss(factory, pre_batch, collide_mul = 2)\n",
    "            if new_loss < def_loss:\n",
    "                batch = deepcopy(pre_batch)\n",
    "                def_loss = new_loss\n",
    "    \n",
    "    return def_loss, batch\n",
    "\n",
    "def best_cases(batch_size, training_time, factory):\n",
    "    for i in (pbar := trange(batch_size)):\n",
    "        best_loss = int(1e3)\n",
    "        for batch_idx in range(training_time):\n",
    "            batch = factory_random_batch(factory)\n",
    "            cost = factory_batch_loss(factory, batch, collide_mul = 2)\n",
    "            if not batch_idx % (training_time//100):\n",
    "                pbar.set_description('{0:>2}%'.format(int(batch_idx/training_time*100)+1))\n",
    "            if best_loss > cost:\n",
    "                best_batch = deepcopy(batch)\n",
    "                best_loss = cost\n",
    "        best_cases.append(best_batch)\n",
    "    return best_batch\n",
    "    "
   ]
  },
  {
   "cell_type": "code",
   "execution_count": 25,
   "metadata": {},
   "outputs": [
    {
     "name": "stderr",
     "output_type": "stream",
     "text": [
      "100%|██████████| 100/100 [00:02<00:00, 34.27it/s]\n"
     ]
    }
   ],
   "source": [
    "new_batch = []\n",
    "historical_low = 1e3\n",
    "for k in (pbar := trange(nb_epochs)):\n",
    "    batch = best_cases[k]\n",
    "    def_loss, batch = factory_batch_change2min(ICN, batch, steps:= [3,2,1], batch_change:= 100)\n",
    "    if def_loss < historical_low:\n",
    "        historical_low = def_loss\n",
    "        historical_batch = deepcopy(batch)\n",
    "    new_batch.append(batch)\n",
    "    "
   ]
  },
  {
   "cell_type": "code",
   "execution_count": 22,
   "metadata": {},
   "outputs": [
    {
     "data": {
      "text/plain": [
       "array(378.43822416)"
      ]
     },
     "execution_count": 22,
     "metadata": {},
     "output_type": "execute_result"
    }
   ],
   "source": [
    "factory_batch_loss(ICN, historical_batch, collide_mul = 2)"
   ]
  },
  {
   "cell_type": "code",
   "execution_count": 28,
   "metadata": {},
   "outputs": [
    {
     "data": {
      "image/png": "[encoded data removed]",
      "text/plain": [
       "<Figure size 432x288 with 1 Axes>"
      ]
     },
     "metadata": {
      "needs_background": "light"
     },
     "output_type": "display_data"
    }
   ],
   "source": [
    "ICN.bg2img()"
   ]
  },
  {
   "cell_type": "code",
   "execution_count": 29,
   "metadata": {},
   "outputs": [
    {
     "name": "stdout",
     "output_type": "stream",
     "text": [
      "p1\n"
     ]
    },
    {
     "data": {
      "image/png": "[encoded data removed]",
      "text/plain": [
       "<Figure size 432x288 with 1 Axes>"
      ]
     },
     "metadata": {
      "needs_background": "light"
     },
     "output_type": "display_data"
    },
    {
     "name": "stdout",
     "output_type": "stream",
     "text": [
      "p2\n"
     ]
    },
    {
     "data": {
      "image/png": "[encoded data removed]",
      "text/plain": [
       "<Figure size 432x288 with 1 Axes>"
      ]
     },
     "metadata": {
      "needs_background": "light"
     },
     "output_type": "display_data"
    },
    {
     "name": "stdout",
     "output_type": "stream",
     "text": [
      "p3\n"
     ]
    },
    {
     "data": {
      "image/png": "[encoded data removed]",
      "text/plain": [
       "<Figure size 432x288 with 1 Axes>"
      ]
     },
     "metadata": {
      "needs_background": "light"
     },
     "output_type": "display_data"
    },
    {
     "name": "stdout",
     "output_type": "stream",
     "text": [
      "p4\n"
     ]
    },
    {
     "data": {
      "image/png": "[encoded data removed]",
      "text/plain": [
       "<Figure size 432x288 with 1 Axes>"
      ]
     },
     "metadata": {
      "needs_background": "light"
     },
     "output_type": "display_data"
    }
   ],
   "source": [
    "for mcode in ICN.product_machines:\n",
    "    print(mcode)\n",
    "    ICN.product_line_img(mcode)"
   ]
  },
  {
   "cell_type": "code",
   "execution_count": null,
   "metadata": {},
   "outputs": [],
   "source": []
  }
 ],
 "metadata": {
  "interpreter": {
   "hash": "4d330885aeb5bc38bbdda26e3e3241df7789a4a394e63682444f6e4cf96f8cea"
  },
  "kernelspec": {
   "display_name": "Python 3.9.12 ('torch')",
   "language": "python",
   "name": "python3"
  },
  "language_info": {
   "codemirror_mode": {
    "name": "ipython",
    "version": 3
   },
   "file_extension": ".py",
   "mimetype": "text/x-python",
   "name": "python",
   "nbconvert_exporter": "python",
   "pygments_lexer": "ipython3",
   "version": "3.9.12"
  },
  "orig_nbformat": 4
 },
 "nbformat": 4,
 "nbformat_minor": 2
}
