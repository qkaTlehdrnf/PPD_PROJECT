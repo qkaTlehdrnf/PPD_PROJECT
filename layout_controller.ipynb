{
 "cells": [
  {
   "cell_type": "code",
   "execution_count": 1,
   "metadata": {},
   "outputs": [],
   "source": [
    "from machine_layout import MachineTemplate, BackgroundTemplate\n",
    "import numpy as np"
   ]
  },
  {
   "cell_type": "code",
   "execution_count": 2,
   "metadata": {},
   "outputs": [],
   "source": [
    "m1 = np.ones([20,10])\n",
    "m1[0,1]=3#start position\n",
    "m1[1,9] = 5\n",
    "m2 = np.ones([10,20])\n",
    "m2[1,0]=3\n",
    "m2[0,1]=5\n",
    "m3 = np.ones([30,20])\n",
    "m3[1,0]=3\n",
    "m3[0,5]=5"
   ]
  },
  {
   "cell_type": "code",
   "execution_count": 3,
   "metadata": {},
   "outputs": [],
   "source": [
    "machine1 = MachineTemplate(m1,1)\n",
    "machine2 = MachineTemplate(m2,2)\n",
    "machine3 = MachineTemplate(m3,3)"
   ]
  },
  {
   "cell_type": "code",
   "execution_count": 4,
   "metadata": {},
   "outputs": [
    {
     "name": "stdout",
     "output_type": "stream",
     "text": [
      "machine_dict OrderedDict([(1, <machine_layout.MachineTemplate object at 0x00000264B66D2F10>), (2, <machine_layout.MachineTemplate object at 0x00000264B66CDA90>), (3, <machine_layout.MachineTemplate object at 0x00000264B66DE0D0>)])\n",
      "in:  0 , out:  0 (31, 29) (30, 21) 8.06225774829855\n",
      "in:  0 , out:  1 (31, 29) (21, 5) 26.0\n",
      "in:  0 , out:  2 (31, 29) (21, 5) 26.0\n",
      "in:  1 , out:  0 (20, 6) (30, 21) 18.027756377319946\n",
      "in:  1 , out:  1 (20, 6) (21, 5) 1.4142135623730951\n",
      "in:  1 , out:  2 (20, 6) (21, 5) 1.4142135623730951\n",
      "in:  2 , out:  0 (20, 6) (30, 21) 18.027756377319946\n",
      "in:  2 , out:  1 (20, 6) (21, 5) 1.4142135623730951\n",
      "in:  2 , out:  2 (20, 6) (21, 5) 1.4142135623730951\n",
      "[[ 8.06225775 26.         26.        ]\n",
      " [18.02775638  1.41421356  1.41421356]\n",
      " [18.02775638  1.41421356  1.41421356]]\n"
     ]
    },
    {
     "data": {
      "image/png": "[encoded data removed]",
      "text/plain": [
       "<Figure size 432x288 with 1 Axes>"
      ]
     },
     "metadata": {
      "needs_background": "light"
     },
     "output_type": "display_data"
    }
   ],
   "source": [
    "# machine1.inandout([50,0],[50,100])\n",
    "Incheon_Airport = BackgroundTemplate(np.zeros([100,100]))\n",
    "Incheon_Airport.machine_add(machine1)\n",
    "Incheon_Airport.machine_add(machine2)\n",
    "Incheon_Airport.machine_add(machine3)\n",
    "Incheon_Airport.machine_batch([30,20],1)\n",
    "Incheon_Airport.machine_batch([20,5],2)\n",
    "Incheon_Airport.machine_batch([50,40],3)\n",
    "# print(Incheon_Airport.machine_dict)\n",
    "print(Incheon_Airport.machine_distance_calculate())\n",
    "Incheon_Airport.bg2img()"
   ]
  },
  {
   "cell_type": "code",
   "execution_count": 27,
   "metadata": {},
   "outputs": [
    {
     "data": {
      "text/plain": [
       "array([[1., 1., 1., ..., 0., 0., 0.],\n",
       "       [1., 1., 1., ..., 0., 0., 0.],\n",
       "       [1., 1., 1., ..., 0., 0., 0.],\n",
       "       ...,\n",
       "       [0., 0., 0., ..., 0., 0., 0.],\n",
       "       [0., 0., 0., ..., 0., 0., 0.],\n",
       "       [0., 0., 0., ..., 0., 0., 0.]], dtype=float16)"
      ]
     },
     "execution_count": 27,
     "metadata": {},
     "output_type": "execute_result"
    }
   ],
   "source": [
    "bgformat = np.zeros([100,100],dtype=np.float16)\n",
    "bgformat[:machine1.occupy.shape[0],:machine1.occupy.shape[1]] += machine1.occupy >0\n",
    "bgformat"
   ]
  },
  {
   "cell_type": "code",
   "execution_count": null,
   "metadata": {},
   "outputs": [],
   "source": []
  }
 ],
 "metadata": {
  "interpreter": {
   "hash": "4d330885aeb5bc38bbdda26e3e3241df7789a4a394e63682444f6e4cf96f8cea"
  },
  "kernelspec": {
   "display_name": "Python 3.9.12 ('torch')",
   "language": "python",
   "name": "python3"
  },
  "language_info": {
   "codemirror_mode": {
    "name": "ipython",
    "version": 3
   },
   "file_extension": ".py",
   "mimetype": "text/x-python",
   "name": "python",
   "nbconvert_exporter": "python",
   "pygments_lexer": "ipython3",
   "version": "3.9.12"
  },
  "orig_nbformat": 4
 },
 "nbformat": 4,
 "nbformat_minor": 2
}
