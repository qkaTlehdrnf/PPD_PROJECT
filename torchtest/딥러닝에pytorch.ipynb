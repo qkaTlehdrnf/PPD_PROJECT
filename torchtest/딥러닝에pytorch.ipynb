{
 "cells": [
  {
   "cell_type": "code",
   "execution_count": 11,
   "metadata": {},
   "outputs": [],
   "source": [
    "import torch"
   ]
  },
  {
   "cell_type": "code",
   "execution_count": 12,
   "metadata": {},
   "outputs": [
    {
     "name": "stdout",
     "output_type": "stream",
     "text": [
      "1.10.2\n"
     ]
    }
   ],
   "source": [
    "torch.cuda.is_available()\n",
    "print(torch.__version__)"
   ]
  },
  {
   "cell_type": "code",
   "execution_count": 13,
   "metadata": {},
   "outputs": [
    {
     "name": "stdout",
     "output_type": "stream",
     "text": [
      "tensor([[0.1368, 0.6310]])\n",
      "tensor([[0.7691, 0.8971]])\n",
      "tensor([[0.9179, 0.8538]])\n",
      "tensor([[0.1499, 0.3567]])\n"
     ]
    }
   ],
   "source": [
    "for i in range(4):\n",
    "    print(torch.rand((1,2)))"
   ]
  },
  {
   "cell_type": "code",
   "execution_count": 15,
   "metadata": {},
   "outputs": [],
   "source": [
    "import torch.nn as nn\n",
    "import torch"
   ]
  },
  {
   "cell_type": "code",
   "execution_count": 21,
   "metadata": {},
   "outputs": [],
   "source": [
    "def identify_func(x):\n",
    "    return x"
   ]
  },
  {
   "cell_type": "code",
   "execution_count": 16,
   "metadata": {},
   "outputs": [],
   "source": [
    "x = torch.Tensor([[0,1]])\n",
    "W1= torch.rand((2,2))\n",
    "b1 = torch.rand((1,2))\n",
    "z1 = torch.mm(x,W1.t())+b1\n",
    "a1 = torch.sigmoid(z1)\n"
   ]
  },
  {
   "cell_type": "code",
   "execution_count": 17,
   "metadata": {},
   "outputs": [
    {
     "name": "stdout",
     "output_type": "stream",
     "text": [
      "tensor([[0.8064, 0.7937]])\n",
      "tensor([[0.6913, 0.6886]])\n"
     ]
    }
   ],
   "source": [
    "print(z1)\n",
    "print(a1)"
   ]
  },
  {
   "cell_type": "code",
   "execution_count": 18,
   "metadata": {},
   "outputs": [
    {
     "data": {
      "text/plain": [
       "tensor([[0.9521]])"
      ]
     },
     "execution_count": 18,
     "metadata": {},
     "output_type": "execute_result"
    }
   ],
   "source": [
    "torch.mm(a1,a1.t())"
   ]
  },
  {
   "cell_type": "code",
   "execution_count": 19,
   "metadata": {},
   "outputs": [],
   "source": [
    "linear_ih = nn.Linear(in_features=2, out_features=2)\n",
    "linear_ho = nn.Linear(in_features=2, out_features=1)\n",
    "activation_layer = nn.Sigmoid()"
   ]
  },
  {
   "cell_type": "code",
   "execution_count": 25,
   "metadata": {},
   "outputs": [
    {
     "name": "stdout",
     "output_type": "stream",
     "text": [
      "0.5897313356399536\n"
     ]
    }
   ],
   "source": [
    "z1 = linear_ih(x)\n",
    "a1 = activation_layer(z1)\n",
    "z2 = linear_ho(a1)\n",
    "y = activation_layer(z2)\n",
    "print(y.item())"
   ]
  },
  {
   "cell_type": "code",
   "execution_count": 26,
   "metadata": {},
   "outputs": [
    {
     "name": "stdout",
     "output_type": "stream",
     "text": [
      "tensor([[0., 1.]])\n",
      "tensor([[0.6206, 0.1391]], grad_fn=<AddmmBackward0>)\n",
      "tensor([[0.6504, 0.5347]], grad_fn=<SigmoidBackward0>)\n",
      "tensor([[0.3629]], grad_fn=<AddmmBackward0>)\n",
      "tensor([[0.5897]], grad_fn=<SigmoidBackward0>)\n"
     ]
    }
   ],
   "source": [
    "print(x)\n",
    "print(z1)\n",
    "print(a1)\n",
    "print(z2)\n",
    "print(y)"
   ]
  },
  {
   "cell_type": "code",
   "execution_count": 28,
   "metadata": {},
   "outputs": [],
   "source": [
    "class Network(nn.Module):\n",
    "    def __init__(self, input_size, hidden_size, output_size):\n",
    "        super(Network, self).__init__()\n",
    "        self.linear_ih = nn.Linear(in_features=input_size, out_features=hidden_size)\n",
    "        self.linear_ho = nn.Linear(in_features=hidden_size, out_features=output_size)\n",
    "        self.activation_layer = nn.Sigmoid()\n",
    "    \n",
    "    def identity_func(self, x):\n",
    "        return x\n",
    "    \n",
    "    def forward(self,x):\n",
    "        z1 = self.linear_ih(x)\n",
    "        a1 = self.activation_layer(z1)\n",
    "        z2 = self.linear_ho(a1)\n",
    "        y = self.activation_layer(z2)\n",
    "        return y\n",
    "    "
   ]
  },
  {
   "cell_type": "code",
   "execution_count": null,
   "metadata": {},
   "outputs": [],
   "source": [
    "net = Network(input_size)"
   ]
  }
 ],
 "metadata": {
  "interpreter": {
   "hash": "4d330885aeb5bc38bbdda26e3e3241df7789a4a394e63682444f6e4cf96f8cea"
  },
  "kernelspec": {
   "display_name": "Python 3.9.12 ('torch')",
   "language": "python",
   "name": "python3"
  },
  "language_info": {
   "codemirror_mode": {
    "name": "ipython",
    "version": 3
   },
   "file_extension": ".py",
   "mimetype": "text/x-python",
   "name": "python",
   "nbconvert_exporter": "python",
   "pygments_lexer": "ipython3",
   "version": "3.9.12"
  },
  "orig_nbformat": 4
 },
 "nbformat": 4,
 "nbformat_minor": 2
}
